{
 "cells": [
  {
   "cell_type": "code",
   "execution_count": 26,
   "metadata": {},
   "outputs": [
    {
     "name": "stdout",
     "output_type": "stream",
     "text": [
      "Unique #prof: 12\n",
      "Unique #course: 12\n",
      "Unique #room: 4\n",
      "Unique #group: 4\n",
      "Total sections: 53\n",
      "[{'id': '1', 'name': 'Nancy Harris'}, {'id': '2', 'name': 'Valerie Salitan'}, {'id': '3', 'name': 'Katya Henry'}, {'id': '4', 'name': 'Rebecca Archer'}, {'id': '5', 'name': 'Trevor Buckley'}, {'id': '6', 'name': 'Jennifer Aaron'}, {'id': '7', 'name': 'Gillian Auger'}, {'id': '8', 'name': 'Scott Cogan'}, {'id': '9', 'name': 'Rena Gregory'}, {'id': '10', 'name': 'Katelyn Talty'}, {'id': '11', 'name': 'Nathan Nichols'}, {'id': '12', 'name': 'Karter Caldwell'}, {'id': '1', 'name': 'Calculus'}, {'id': '2', 'name': 'Physics'}, {'id': '3', 'name': 'Advanced Algorithms'}, {'id': '4', 'name': 'Database Management'}, {'id': '5', 'name': 'Discrete Mathematics'}, {'id': '6', 'name': 'Software Design and Analysis'}, {'id': '7', 'name': 'Computer Vision'}, {'id': '8', 'name': 'Machine Learning'}, {'id': '9', 'name': 'Visualizations'}, {'id': '10', 'name': 'Applied Chemistry'}, {'id': '11', 'name': 'Computer Theory'}, {'id': '12', 'name': 'Network Analysis'}, {'name': 'R48', 'lab': 'false', 'size': '24'}, {'name': 'R53', 'lab': 'true', 'size': '60'}, {'name': 'R50', 'lab': 'true', 'size': '60'}, {'name': 'R13', 'lab': 'true', 'size': '60'}, {'id': '1', 'name': 'ClassA', 'size': '19'}, {'id': '2', 'name': 'ClassB', 'size': '19'}, {'id': '3', 'name': 'ClassC', 'size': '19'}, {'id': '4', 'name': 'ClassD', 'size': '19'}, {}, {}, {}, {}, {}, {}, {}, {}, {}, {}, {}, {}, {}, {}, {}, {}, {}, {}, {}, {}, {}]\n"
     ]
    }
   ],
   "source": [
    "with open('../configuration files/../configuration files/data.cfg', 'r') as file:\n",
    "    lines = file.readlines()\n",
    "\n",
    "data = []\n",
    "sections = {}\n",
    "\n",
    "prof_ids = set()\n",
    "course_ids = set()\n",
    "room_names = set()\n",
    "group_ids = set()\n",
    "current_section = None \n",
    "\n",
    "for line in lines:\n",
    "    line = line.strip()\n",
    "    if line == '#prof':\n",
    "        current_section = 'prof'\n",
    "    elif line == '#room':\n",
    "        current_section = 'room'\n",
    "    elif line == '#course':\n",
    "        current_section = 'course'\n",
    "    elif line == '#group':\n",
    "        current_section = 'group'\n",
    "        \n",
    "    elif line == '#end':\n",
    "        data.append(sections)\n",
    "        sections = {}\n",
    "        current_section = None\n",
    "    elif current_section and '=' in line:\n",
    "        key , value = line.split(' = ')\n",
    "        sections[key] = value       \n",
    "        if key == 'id':\n",
    "            if current_section == 'prof':\n",
    "                prof_ids.add(value)\n",
    "            elif current_section == 'course':\n",
    "                course_ids.add(value)\n",
    "            elif current_section == 'group':\n",
    "                group_ids.add(value)\n",
    "        elif key == 'name':\n",
    "            if current_section == 'room':\n",
    "                room_names.add(value)\n",
    "\n",
    "print(f'Unique #prof: {len(prof_ids)}')\n",
    "print(f'Unique #course: {len(course_ids)}')\n",
    "print(f'Unique #room: {len(room_names)}')\n",
    "print(f'Unique #group: {len(group_ids)}')\n",
    "print(f'Total sections: {len(data)}')\n",
    "print(data)"
   ]
  },
  {
   "cell_type": "code",
   "execution_count": 47,
   "metadata": {},
   "outputs": [
    {
     "name": "stdout",
     "output_type": "stream",
     "text": [
      "parse course\n",
      "parse course\n",
      "parse course\n",
      "parse course\n",
      "parse course\n",
      "parse course\n",
      "parse course\n",
      "parse course\n",
      "parse course\n",
      "parse course\n",
      "parse course\n",
      "parse course\n",
      "laaab:  R48 false False 0\n",
      "laaab:  R53 true True 1\n",
      "laaab:  R50 true True 2\n",
      "laaab:  R13 true True 3\n"
     ]
    }
   ],
   "source": [
    "import sys \n",
    "sys.path.append('../configuration files/')\n",
    "\n",
    "import Configuration\n",
    "\n",
    "PATH = '../configuration files/data_old.cfg'\n",
    "config = Configuration.Configuration()\n",
    "config.Parsefile(PATH)\n"
   ]
  },
  {
   "cell_type": "code",
   "execution_count": 21,
   "metadata": {},
   "outputs": [
    {
     "ename": "KeyError",
     "evalue": "'type'",
     "output_type": "error",
     "traceback": [
      "\u001b[0;31m---------------------------------------------------------------------------\u001b[0m",
      "\u001b[0;31mKeyError\u001b[0m                                  Traceback (most recent call last)",
      "Cell \u001b[0;32mIn[21], line 5\u001b[0m\n\u001b[1;32m      2\u001b[0m domains \u001b[38;5;241m=\u001b[39m {}\n\u001b[1;32m      4\u001b[0m \u001b[38;5;28;01mfor\u001b[39;00m section \u001b[38;5;129;01min\u001b[39;00m data:\n\u001b[0;32m----> 5\u001b[0m     \u001b[38;5;28;01mif\u001b[39;00m \u001b[43msection\u001b[49m\u001b[43m[\u001b[49m\u001b[38;5;124;43m'\u001b[39;49m\u001b[38;5;124;43mtype\u001b[39;49m\u001b[38;5;124;43m'\u001b[39;49m\u001b[43m]\u001b[49m \u001b[38;5;241m==\u001b[39m \u001b[38;5;124m'\u001b[39m\u001b[38;5;124mprof\u001b[39m\u001b[38;5;124m'\u001b[39m:\n\u001b[1;32m      6\u001b[0m         variables[section[\u001b[38;5;124m'\u001b[39m\u001b[38;5;124mid\u001b[39m\u001b[38;5;124m'\u001b[39m]] \u001b[38;5;241m=\u001b[39m section[\u001b[38;5;124m'\u001b[39m\u001b[38;5;124mname\u001b[39m\u001b[38;5;124m'\u001b[39m]\n\u001b[1;32m      7\u001b[0m         domains[section[\u001b[38;5;124m'\u001b[39m\u001b[38;5;124mid\u001b[39m\u001b[38;5;124m'\u001b[39m]] \u001b[38;5;241m=\u001b[39m course_ids\n",
      "\u001b[0;31mKeyError\u001b[0m: 'type'"
     ]
    }
   ],
   "source": [
    "variables = {}  \n",
    "domains = {}\n",
    "\n",
    "for section in data:\n",
    "    if section['type'] == 'prof':\n",
    "        variables[section['id']] = section['name']\n",
    "        domains[section['id']] = course_ids\n",
    "    elif section['type'] == 'course':\n",
    "        variables[section['id']] = section['name']\n",
    "        domains[section['id']] = room_names\n",
    "    elif section['type'] == 'group':\n",
    "        variables[section['id']] = section['name']\n",
    "        domains[section['id']] = course_ids\n",
    "\n",
    "print(variables)"
   ]
  },
  {
   "cell_type": "code",
   "execution_count": 19,
   "metadata": {},
   "outputs": [
    {
     "name": "stdout",
     "output_type": "stream",
     "text": [
      "Number of Professors: 12\n",
      "Number of Courses: 12\n",
      "Number of Rooms: 4\n"
     ]
    },
    {
     "data": {
      "image/png": "[encoded data removed]",
      "text/plain": [
       "<Figure size 1000x600 with 1 Axes>"
      ]
     },
     "metadata": {},
     "output_type": "display_data"
    }
   ],
   "source": [
    "import configparser\n",
    "import pandas as pd\n",
    "import seaborn as sns\n",
    "import matplotlib.pyplot as plt\n",
    "\n",
    "# Load configuration\n",
    "def load_config(file_path):\n",
    "    config = configparser.ConfigParser()\n",
    "    config.read(file_path)\n",
    "    return config\n",
    "\n",
    "# Extract data from configuration\n",
    "def extract_data(config):\n",
    "    professors = {k: v for k, v in config.items('Professors')}\n",
    "    courses = {k: v for k, v in config.items('Courses')}\n",
    "    rooms = {k: v.split(',')[0].strip() for k, v in config.items('Rooms')}\n",
    "    return professors, courses, rooms\n",
    "\n",
    "# Statistical analysis and visualization\n",
    "def analyze_and_visualize(professors, courses, rooms):\n",
    "    # Convert data to DataFrame for easier analysis\n",
    "    df_professors = pd.DataFrame(list(professors.items()), columns=['ID', 'Name'])\n",
    "    df_courses = pd.DataFrame(list(courses.items()), columns=['ID', 'Course'])\n",
    "    df_rooms = pd.DataFrame(list(rooms.items()), columns=['ID', 'Room'])\n",
    "\n",
    "    # Descriptive statistics\n",
    "    num_professors = df_professors['ID'].nunique()\n",
    "    num_courses = df_courses['ID'].nunique()\n",
    "    num_rooms = df_rooms['ID'].nunique()\n",
    "\n",
    "    print(f\"Number of Professors: {num_professors}\")\n",
    "    print(f\"Number of Courses: {num_courses}\")\n",
    "    print(f\"Number of Rooms: {num_rooms}\")\n",
    "\n",
    "    # Visualization\n",
    "    plt.figure(figsize=(10, 6))\n",
    "\n",
    "    # Plot number of teachers, courses, and rooms in one figure\n",
    "    sns.barplot(x=['Professors', 'Courses', 'Rooms'], y=[num_professors, num_courses, num_rooms], palette='viridis')\n",
    "    plt.title('Number of Professors, Courses, and Rooms')\n",
    "    plt.xlabel('Category')\n",
    "    plt.ylabel('Count')\n",
    "\n",
    "    plt.tight_layout()\n",
    "    plt.show()\n",
    "\n",
    "# Load the configuration file\n",
    "config_path = '../configuration files/data.cfg'\n",
    "config = load_config(config_path)\n",
    "\n",
    "# Extract data from the configuration\n",
    "professors, courses, rooms = extract_data(config)\n",
    "\n",
    "# Perform statistical analysis and visualize the data\n",
    "analyze_and_visualize(professors, courses, rooms)\n"
   ]
  }
 ],
 "metadata": {
  "kernelspec": {
   "display_name": "automl",
   "language": "python",
   "name": "python3"
  },
  "language_info": {
   "codemirror_mode": {
    "name": "ipython",
    "version": 3
   },
   "file_extension": ".py",
   "mimetype": "text/x-python",
   "name": "python",
   "nbconvert_exporter": "python",
   "pygments_lexer": "ipython3",
   "version": "3.8.15"
  }
 },
 "nbformat": 4,
 "nbformat_minor": 2
}
